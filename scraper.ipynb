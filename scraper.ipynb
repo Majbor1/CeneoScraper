{
 "cells": [
  {
   "cell_type": "markdown",
   "metadata": {},
   "source": [
    "### Import bibliotek"
   ]
  },
  {
   "cell_type": "code",
   "execution_count": 18,
   "metadata": {},
   "outputs": [],
   "source": [
    "import requests\n",
    "from bs4 import BeautifulSoup\n",
    "import json\n",
    "import os"
   ]
  },
  {
   "cell_type": "markdown",
   "metadata": {},
   "source": [
    "### Pobranie ze strony Ceneo.pl opinii o konkretnym produkcie"
   ]
  },
  {
   "cell_type": "code",
   "execution_count": 25,
   "metadata": {},
   "outputs": [],
   "source": [
    "with open(\"./headers.json\", \"r\") as jf:\n",
    "    headers = json.load(jf)"
   ]
  },
  {
   "cell_type": "code",
   "execution_count": 26,
   "metadata": {},
   "outputs": [
    {
     "name": "stdout",
     "output_type": "stream",
     "text": [
      "https://www.ceneo.pl/175451294#tab=reviews\n",
      "2\n",
      "[{'review_id': '19425088', 'author': 'M...l', 'recomendation': 'Polecam', 'stars': '5/5', 'content': 'MacBook Pro 2024 z M4 to świetne rozwiązanie dla wymagających użytkowników. Wydajny, cichy i energooszczędny – bez problemu radzi sobie z wieloma otwartymi aplikacjami i intensywną pracą. 14-calowy ekran Liquid Retina XDR zachwyca jakością obrazu, a kompaktowy rozmiar i długi czas pracy na baterii czynią go idealnym sprzętem mobilnym. Jeśli ktoś szuka mocy zamkniętej w eleganckiej i lekkiej obudowie, to zdecydowanie warto go rozważyć.', 'pros': ['jakość', 'wydajność', 'wygląd'], 'cons': [], 'likes': '1', 'dislikes': '1', 'publish_date': '2025-02-04 16:28:03', 'purchase_date': '2025-01-28 10:51:01'}, {'review_id': '19391098', 'author': 'k...t', 'recomendation': 'Polecam', 'stars': '5/5', 'content': 'Mistrz w swojej klasie 🤩', 'pros': ['jakość', 'wydajność', 'wygląd'], 'cons': [], 'likes': '1', 'dislikes': '1', 'publish_date': '2025-01-21 19:42:43', 'purchase_date': '2024-12-17 01:04:09'}]\n"
     ]
    }
   ],
   "source": [
    "product_id = \"175451294\"\n",
    "next_page = f\"https://www.ceneo.pl/{product_id}#tab=reviews\"\n",
    "all_reviews = []\n",
    "while(next_page):\n",
    "    response = requests.get(next_page, headers=headers)\n",
    "    print(next_page)\n",
    "    if response.status_code == 200:\n",
    "        page_dom = BeautifulSoup(response.text, \"html.parser\")\n",
    "        reviews = page_dom.select(\"div.js_product-review:not(.user-post--highlight)\")\n",
    "        print(len(reviews))\n",
    "        for review in reviews:\n",
    "            try:\n",
    "                single_review = {\n",
    "                    \"review_id\": review[\"data-entry-id\"],\n",
    "                    \"author\": review.select_one(\"span.user-post__author-name\").text.strip(),\n",
    "                    \"recomendation\": review.select_one(\"span.user-post__author-recomendation > em\").text.strip(),\n",
    "                    \"stars\": review.select_one(\"span.user-post__score-count\").text.strip(),\n",
    "                    \"content\": review.select_one(\"div.user-post__text\").text.strip(),\n",
    "                    \"pros\": [p.text.strip() for p in review.select(\"div.review-feature__item--positive\")],\n",
    "                    \"cons\": [c.text.strip() for c in review.select(\"div.review-feature__item--negative\")],\n",
    "                    \"likes\": review.select_one(\"button.vote-yes > span\").text.strip(),\n",
    "                    \"dislikes\": review.select_one(\"button.vote-no > span\").text.strip(),\n",
    "                    \"publish_date\": review.select_one(\"span.user-post__published > time:nth-child(1)\")['datetime'].strip(),\n",
    "                    \"purchase_date\": review.select_one(\"span.user-post__published > time:nth-child(2)\")['datetime'].strip()\n",
    "\n",
    "                }\n",
    "                all_reviews.append(single_review)\n",
    "            except (AttributeError, TypeError): \n",
    "                pass\n",
    "        try:\n",
    "            next_page = \"https://www.ceneo.pl\" + page_dom.select_one(\"a.pagination__next\")[\"href\"]\n",
    "        except TypeError:\n",
    "            next_page = None\n",
    "print(all_reviews)"
   ]
  },
  {
   "cell_type": "markdown",
   "metadata": {},
   "source": [
    "\n",
    "### Zapisanie wszystkich opinii w bazie danych\n"
   ]
  },
  {
   "cell_type": "code",
   "execution_count": 27,
   "metadata": {},
   "outputs": [],
   "source": [
    "if not os.path.exists(\"./opinions\"):\n",
    "    os.mkdir(\"./opinions\")"
   ]
  },
  {
   "cell_type": "code",
   "execution_count": 28,
   "metadata": {},
   "outputs": [],
   "source": [
    "with open(f\"./opinions/{product_id}.json\", \"w\", encoding=\"UTF-8\") as jf:\n",
    "    json.dump(all_reviews, jf, indent=4, ensure_ascii=False)"
   ]
  }
 ],
 "metadata": {
  "kernelspec": {
   "display_name": ".venv",
   "language": "python",
   "name": "python3"
  },
  "language_info": {
   "codemirror_mode": {
    "name": "ipython",
    "version": 3
   },
   "file_extension": ".py",
   "mimetype": "text/x-python",
   "name": "python",
   "nbconvert_exporter": "python",
   "pygments_lexer": "ipython3",
   "version": "3.13.1"
  }
 },
 "nbformat": 4,
 "nbformat_minor": 2
}
