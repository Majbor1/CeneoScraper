{
 "cells": [
  {
   "cell_type": "markdown",
   "id": "75d337ad",
   "metadata": {},
   "source": [
    "### Import bibliotek"
   ]
  },
  {
   "cell_type": "code",
   "execution_count": 67,
   "id": "56877793",
   "metadata": {},
   "outputs": [],
   "source": [
    "import os\n",
    "import pandas as pd\n",
    "import numpy as np\n",
    "from matplotlib import pyplot as plt"
   ]
  },
  {
   "cell_type": "markdown",
   "id": "c9a4df7c",
   "metadata": {},
   "source": [
    "### Wczytanie i przygotowanie danych"
   ]
  },
  {
   "cell_type": "code",
   "execution_count": 110,
   "id": "94dd5eb6",
   "metadata": {},
   "outputs": [
    {
     "name": "stdout",
     "output_type": "stream",
     "text": [
      "156103510\n",
      "175451294\n",
      "84514582\n"
     ]
    }
   ],
   "source": [
    "print(*[filename.removesuffix(\".json\") for filename in os.listdir(\"./opinions\")], sep=\"\\n\")"
   ]
  },
  {
   "cell_type": "code",
   "execution_count": 111,
   "id": "871c944e",
   "metadata": {},
   "outputs": [
    {
     "data": {
      "text/html": [
       "<div>\n",
       "<style scoped>\n",
       "    .dataframe tbody tr th:only-of-type {\n",
       "        vertical-align: middle;\n",
       "    }\n",
       "\n",
       "    .dataframe tbody tr th {\n",
       "        vertical-align: top;\n",
       "    }\n",
       "\n",
       "    .dataframe thead th {\n",
       "        text-align: right;\n",
       "    }\n",
       "</style>\n",
       "<table border=\"1\" class=\"dataframe\">\n",
       "  <thead>\n",
       "    <tr style=\"text-align: right;\">\n",
       "      <th></th>\n",
       "      <th>author</th>\n",
       "      <th>recomendation</th>\n",
       "      <th>stars</th>\n",
       "      <th>content</th>\n",
       "      <th>pros</th>\n",
       "      <th>cons</th>\n",
       "      <th>likes</th>\n",
       "      <th>dislikes</th>\n",
       "      <th>publish_date</th>\n",
       "      <th>purchase_date</th>\n",
       "    </tr>\n",
       "    <tr>\n",
       "      <th>review_id</th>\n",
       "      <th></th>\n",
       "      <th></th>\n",
       "      <th></th>\n",
       "      <th></th>\n",
       "      <th></th>\n",
       "      <th></th>\n",
       "      <th></th>\n",
       "      <th></th>\n",
       "      <th></th>\n",
       "      <th></th>\n",
       "    </tr>\n",
       "  </thead>\n",
       "  <tbody>\n",
       "    <tr>\n",
       "      <th>19425088</th>\n",
       "      <td>M...l</td>\n",
       "      <td>Polecam</td>\n",
       "      <td>5/5</td>\n",
       "      <td>MacBook Pro 2024 z M4 to świetne rozwiązanie d...</td>\n",
       "      <td>[jakość, wydajność, wygląd]</td>\n",
       "      <td>[]</td>\n",
       "      <td>1</td>\n",
       "      <td>1</td>\n",
       "      <td>2025-02-04 16:28:03</td>\n",
       "      <td>2025-01-28 10:51:01</td>\n",
       "    </tr>\n",
       "    <tr>\n",
       "      <th>19391098</th>\n",
       "      <td>k...t</td>\n",
       "      <td>Polecam</td>\n",
       "      <td>5/5</td>\n",
       "      <td>Mistrz w swojej klasie 🤩</td>\n",
       "      <td>[jakość, wydajność, wygląd]</td>\n",
       "      <td>[]</td>\n",
       "      <td>1</td>\n",
       "      <td>1</td>\n",
       "      <td>2025-01-21 19:42:43</td>\n",
       "      <td>2024-12-17 01:04:09</td>\n",
       "    </tr>\n",
       "  </tbody>\n",
       "</table>\n",
       "</div>"
      ],
      "text/plain": [
       "          author recomendation stars  \\\n",
       "review_id                              \n",
       "19425088   M...l       Polecam   5/5   \n",
       "19391098   k...t       Polecam   5/5   \n",
       "\n",
       "                                                     content  \\\n",
       "review_id                                                      \n",
       "19425088   MacBook Pro 2024 z M4 to świetne rozwiązanie d...   \n",
       "19391098                            Mistrz w swojej klasie 🤩   \n",
       "\n",
       "                                  pros cons  likes  dislikes  \\\n",
       "review_id                                                      \n",
       "19425088   [jakość, wydajność, wygląd]   []      1         1   \n",
       "19391098   [jakość, wydajność, wygląd]   []      1         1   \n",
       "\n",
       "                  publish_date        purchase_date  \n",
       "review_id                                            \n",
       "19425088   2025-02-04 16:28:03  2025-01-28 10:51:01  \n",
       "19391098   2025-01-21 19:42:43  2024-12-17 01:04:09  "
      ]
     },
     "execution_count": 111,
     "metadata": {},
     "output_type": "execute_result"
    }
   ],
   "source": [
    "product_id = input(\"Podaj kod produktu: \")\n",
    "reviews = pd.read_json(f\"./opinions/{product_id}.json\").set_index(\"review_id\")\n",
    "reviews"
   ]
  },
  {
   "cell_type": "code",
   "execution_count": 112,
   "id": "fe953fe7",
   "metadata": {},
   "outputs": [
    {
     "data": {
      "text/html": [
       "<div>\n",
       "<style scoped>\n",
       "    .dataframe tbody tr th:only-of-type {\n",
       "        vertical-align: middle;\n",
       "    }\n",
       "\n",
       "    .dataframe tbody tr th {\n",
       "        vertical-align: top;\n",
       "    }\n",
       "\n",
       "    .dataframe thead th {\n",
       "        text-align: right;\n",
       "    }\n",
       "</style>\n",
       "<table border=\"1\" class=\"dataframe\">\n",
       "  <thead>\n",
       "    <tr style=\"text-align: right;\">\n",
       "      <th></th>\n",
       "      <th>author</th>\n",
       "      <th>recomendation</th>\n",
       "      <th>stars</th>\n",
       "      <th>content</th>\n",
       "      <th>pros</th>\n",
       "      <th>cons</th>\n",
       "      <th>likes</th>\n",
       "      <th>dislikes</th>\n",
       "      <th>publish_date</th>\n",
       "      <th>purchase_date</th>\n",
       "    </tr>\n",
       "    <tr>\n",
       "      <th>review_id</th>\n",
       "      <th></th>\n",
       "      <th></th>\n",
       "      <th></th>\n",
       "      <th></th>\n",
       "      <th></th>\n",
       "      <th></th>\n",
       "      <th></th>\n",
       "      <th></th>\n",
       "      <th></th>\n",
       "      <th></th>\n",
       "    </tr>\n",
       "  </thead>\n",
       "  <tbody>\n",
       "    <tr>\n",
       "      <th>19425088</th>\n",
       "      <td>M...l</td>\n",
       "      <td>Polecam</td>\n",
       "      <td>5.0</td>\n",
       "      <td>MacBook Pro 2024 z M4 to świetne rozwiązanie d...</td>\n",
       "      <td>[jakość, wydajność, wygląd]</td>\n",
       "      <td>[]</td>\n",
       "      <td>1</td>\n",
       "      <td>1</td>\n",
       "      <td>2025-02-04 16:28:03</td>\n",
       "      <td>2025-01-28 10:51:01</td>\n",
       "    </tr>\n",
       "    <tr>\n",
       "      <th>19391098</th>\n",
       "      <td>k...t</td>\n",
       "      <td>Polecam</td>\n",
       "      <td>5.0</td>\n",
       "      <td>Mistrz w swojej klasie 🤩</td>\n",
       "      <td>[jakość, wydajność, wygląd]</td>\n",
       "      <td>[]</td>\n",
       "      <td>1</td>\n",
       "      <td>1</td>\n",
       "      <td>2025-01-21 19:42:43</td>\n",
       "      <td>2024-12-17 01:04:09</td>\n",
       "    </tr>\n",
       "  </tbody>\n",
       "</table>\n",
       "</div>"
      ],
      "text/plain": [
       "          author recomendation  stars  \\\n",
       "review_id                               \n",
       "19425088   M...l       Polecam    5.0   \n",
       "19391098   k...t       Polecam    5.0   \n",
       "\n",
       "                                                     content  \\\n",
       "review_id                                                      \n",
       "19425088   MacBook Pro 2024 z M4 to świetne rozwiązanie d...   \n",
       "19391098                            Mistrz w swojej klasie 🤩   \n",
       "\n",
       "                                  pros cons  likes  dislikes  \\\n",
       "review_id                                                      \n",
       "19425088   [jakość, wydajność, wygląd]   []      1         1   \n",
       "19391098   [jakość, wydajność, wygląd]   []      1         1   \n",
       "\n",
       "                  publish_date        purchase_date  \n",
       "review_id                                            \n",
       "19425088   2025-02-04 16:28:03  2025-01-28 10:51:01  \n",
       "19391098   2025-01-21 19:42:43  2024-12-17 01:04:09  "
      ]
     },
     "execution_count": 112,
     "metadata": {},
     "output_type": "execute_result"
    }
   ],
   "source": [
    "reviews.stars = reviews.stars.apply(lambda s: s.split(\"/\")[0].replace(\",\", \".\")).astype(float)\n",
    "reviews.likes = reviews.likes.astype(int)\n",
    "reviews.dislikes = reviews.dislikes.astype(int)\n",
    "reviews\n"
   ]
  },
  {
   "cell_type": "markdown",
   "id": "43155db5",
   "metadata": {},
   "source": [
    "### Podstawowe statystki "
   ]
  },
  {
   "cell_type": "code",
   "execution_count": 113,
   "id": "1e6354bf",
   "metadata": {},
   "outputs": [
    {
     "name": "stdout",
     "output_type": "stream",
     "text": [
      "Liczba opinii o produkcie: 2\n",
      "Liczba opinii przy których została podana lista zalet: 2\n",
      "Liczba opinii przy których została podana lista wad: 0\n",
      "Liczba opinii przy których została podana lista zalet oraz lista wad: 0\n",
      "Średnia liczba gwiazdek dla produktu: 5.0\n"
     ]
    }
   ],
   "source": [
    "reviews_count = reviews.shape[0]\n",
    "pros_count = reviews.pros.astype(bool).sum()\n",
    "cons_count = reviews.cons.astype(bool).sum()\n",
    "pros_cons_count = reviews.apply(lambda r: bool(r.pros) and bool(r.cons), axis=1).sum()\n",
    "avg_stars = round(reviews.stars.mean(), 2)\n",
    "\n",
    "print(f\"Liczba opinii o produkcie: {reviews_count}\")\n",
    "print(f\"Liczba opinii przy których została podana lista zalet: {pros_count}\")\n",
    "print(f\"Liczba opinii przy których została podana lista wad: {cons_count}\")\n",
    "print(f\"Liczba opinii przy których została podana lista zalet oraz lista wad: {pros_cons_count}\")\n",
    "print(f\"Średnia liczba gwiazdek dla produktu: {avg_stars}\")\n"
   ]
  },
  {
   "cell_type": "code",
   "execution_count": 114,
   "id": "fcc23756",
   "metadata": {},
   "outputs": [
    {
     "data": {
      "text/plain": [
       "pros\n",
       "jakość       2\n",
       "wydajność    2\n",
       "wygląd       2\n",
       "Name: count, dtype: int64"
      ]
     },
     "execution_count": 114,
     "metadata": {},
     "output_type": "execute_result"
    }
   ],
   "source": [
    "pros = reviews.pros.explode().value_counts()\n",
    "pros"
   ]
  },
  {
   "cell_type": "code",
   "execution_count": 115,
   "id": "b8bc0eed",
   "metadata": {},
   "outputs": [
    {
     "data": {
      "text/plain": [
       "Series([], Name: count, dtype: int64)"
      ]
     },
     "execution_count": 115,
     "metadata": {},
     "output_type": "execute_result"
    }
   ],
   "source": [
    "cons = reviews.cons.explode().value_counts()\n",
    "cons\n"
   ]
  },
  {
   "cell_type": "markdown",
   "id": "3a8461cf",
   "metadata": {},
   "source": [
    "### Wykresy"
   ]
  },
  {
   "cell_type": "code",
   "execution_count": 116,
   "id": "04e7014f",
   "metadata": {},
   "outputs": [
    {
     "data": {
      "text/plain": [
       "recomendation\n",
       "Nie polecam    0\n",
       "Polecam        2\n",
       "None           0\n",
       "Name: count, dtype: int64"
      ]
     },
     "execution_count": 116,
     "metadata": {},
     "output_type": "execute_result"
    }
   ],
   "source": [
    "recomendation = reviews.recomendation.value_counts(dropna=False).reindex(['Nie polecam', 'Polecam', None], fill_value=0)\n",
    "recomendation"
   ]
  },
  {
   "cell_type": "code",
   "execution_count": 117,
   "id": "d805577e",
   "metadata": {},
   "outputs": [
    {
     "data": {
      "text/plain": [
       "<Axes: >"
      ]
     },
     "execution_count": 117,
     "metadata": {},
     "output_type": "execute_result"
    },
    {
     "data": {
      "image/png": "[encoded data removed]",
      "text/plain": [
       "<Figure size 640x480 with 1 Axes>"
      ]
     },
     "metadata": {},
     "output_type": "display_data"
    }
   ],
   "source": [
    "recomendation.plot.pie(\n",
    "    label = \"\",\n",
    "    labels = ['Nie polecam', 'Polecam', 'Nie mam zdania'],\n",
    "    colors = ['crimson', 'forestgreen', 'khaki'],\n",
    "    autopct = lambda x: f\"{x:1.1f}%\" if x>0 else \"\"\n",
    "    )"
   ]
  }
 ],
 "metadata": {
  "kernelspec": {
   "display_name": ".venv",
   "language": "python",
   "name": "python3"
  },
  "language_info": {
   "codemirror_mode": {
    "name": "ipython",
    "version": 3
   },
   "file_extension": ".py",
   "mimetype": "text/x-python",
   "name": "python",
   "nbconvert_exporter": "python",
   "pygments_lexer": "ipython3",
   "version": "3.13.1"
  }
 },
 "nbformat": 4,
 "nbformat_minor": 5
}
